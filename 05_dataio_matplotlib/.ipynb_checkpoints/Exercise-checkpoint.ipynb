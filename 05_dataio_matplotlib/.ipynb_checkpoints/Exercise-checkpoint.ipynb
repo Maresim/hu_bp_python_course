{
 "cells": [
  {
   "cell_type": "code",
   "execution_count": 1,
   "metadata": {
    "collapsed": true
   },
   "outputs": [],
   "source": [
    "import cPickle as pickle"
   ]
  },
  {
   "cell_type": "code",
   "execution_count": 17,
   "metadata": {
    "collapsed": false
   },
   "outputs": [
    {
     "name": "stdout",
     "output_type": "stream",
     "text": [
      "ATGTCTGCTGCTGCTGATAGATTAAACTTAACTTCCGGCCACTTGAATGCTGGTAGAAAG\n",
      "AGAAGTTCCTCTTCTGTTTCTTTGAAGGCTGCCGAAAAGCCTTTCAAGGTTACTGTGATT\n",
      "GGATCTGGTAACTGGGGTACTACTATTGCCAAGGTGGTTGCCGAAAATTGTAAGGGATAC\n",
      "CCAGAAGTTTTCGCTCCAATAGTACAAATGTGGGTGTTCGAAGAAGAGATCAATGGTGAA\n",
      "AAATTGACTGAAATCATAAATACTAGACATCAAAACGTGAAATACTTGCCTGGCATCACT\n",
      "CTACCCGACAATTTGGTTGCTAATCCAGACTTGATTGATTCAGTCAAGGATGTCGACATC\n",
      "ATCGTTTTCAACATTCCACATCAATTTTTGCCCCGTATCTGTAGCCAATTGAAAGGTCAT\n",
      "GTTGATTCACACGTCAGAGCTATCTCCTGTCTAAAGGGTTTTGAAGTTGGTGCTAAAGGT\n",
      "GTCCAATTGCTATCCTCTTACATCACTGAGGAACTAGGTATTCAATGTGGTGCTCTATCT\n",
      "GGTGCTAACATTGCCACCGAAGTCGCTCAAGAACACTGGTCTGAAACAACAGTTGCTTAC\n",
      "CACATTCCAAAGGATTTCAGAGGCGAGGGCAAGGACGTCGACCATAAGGTTCTAAAGGCC\n",
      "TTGTTCCACAGACCTTACTTCCACGTTAGTGTCATCGAAGATGTTGCTGGTATCTCCATC\n",
      "TGTGGTGCTTTGAAGAACGTTGTTGCCTTAGGTTGTGGTTTCGTCGAAGGTCTAGGCTGG\n",
      "GGTAACAACGCTTCTGCTGCCATCCAAAGAGTCGGTTTGGGTGAGATCATCAGATTCGGT\n",
      "CAAATGTTTTTCCCAGAATCTAGAGAAGAAACATACTACCAAGAGTCTGCTGGTGTTGCT\n",
      "GATTTGATCACCACCTGCGCTGGTGGTAGAAACGTCAAGGTTGCTAGGCTAATGGCTACT\n",
      "TCTGGTAAGGACGCCTGGGAATGTGAAAAGGAGTTGTTGAATGGCCAATCCGCTCAAGGT\n",
      "TTAATTACCTGCAAAGAAGTTCACGAATGGTTGGAAACATGTGGCTCTGTCGAAGACTTC\n",
      "CCATTATTTGAAGCCGTATACCAAATCGTTTACAACAACTACCCAATGAAGAACCTGCCG\n",
      "GACATGATTGAAGAATTAGATCTACATGAAGATTAG\n",
      "(324, 240, 276, 336)\n"
     ]
    }
   ],
   "source": [
    "with open('GPD1_seq.fasta', 'r') as f:\n",
    "    lines = f.readlines()\n",
    "#print lines\n",
    "\n",
    "data = {}\n",
    "seq=''\n",
    "\n",
    "# iterate over all lines in the file\n",
    "for line in lines:\n",
    "    if line.startswith('>'): # skip comments\n",
    "        continue\n",
    "    else:\n",
    "        seq=seq+line\n",
    "\n",
    "print seq\n",
    "        \n",
    "\n",
    "\n",
    "def compute_nt_composition(sequence):\n",
    "    count_A = 0\n",
    "    count_C = 0\n",
    "    count_G = 0\n",
    "    count_T = 0\n",
    "    for char in sequence:\n",
    "        if char =='A':\n",
    "            count_A=count_A+1\n",
    "        elif char =='C':\n",
    "            count_C=count_C+1\n",
    "        elif char =='G':\n",
    "            count_G=count_G+1\n",
    "        elif char =='T':\n",
    "            count_T=count_T+1\n",
    "    return(count_A,count_C,count_G,count_T)    \n",
    "\n",
    "print(compute_nt_composition(seq))\n",
    "a = compute_nt_composition(seq)\n",
    "\n",
    "\n",
    "with open('snuc.p', 'w') as f:\n",
    "    pickle.dump(a, f)\n",
    "\n",
    "\n",
    "\n",
    "    "
   ]
  },
  {
   "cell_type": "code",
   "execution_count": 33,
   "metadata": {
    "collapsed": false
   },
   "outputs": [
    {
     "data": {
      "text/plain": [
       "[None, None, None, None, None, None, None, None]"
      ]
     },
     "execution_count": 33,
     "metadata": {},
     "output_type": "execute_result"
    },
    {
     "data": {
      "image/png": "[encoded data removed]",
      "text/plain": [
       "<matplotlib.figure.Figure at 0x7f7e8cf36490>"
      ]
     },
     "metadata": {},
     "output_type": "display_data"
    }
   ],
   "source": [
    "%matplotlib inline \n",
    "from pylab import *\n",
    "xv=[0.75,1.75,2.75,3.75]\n",
    "t1=title('Distribution of nucleotides')\n",
    "x1=xlabel('Type of nucleotide')\n",
    "y1=ylabel('Occurances')\n",
    "mybar = bar(xv, a , width=0.5,yerr=0.5)\n",
    "xticks(range(1,5),['A','B','C','D'])\n",
    "setp(mybar, color='m',edgecolor='g')"
   ]
  },
  {
   "cell_type": "code",
   "execution_count": null,
   "metadata": {
    "collapsed": true
   },
   "outputs": [],
   "source": []
  }
 ],
 "metadata": {
  "kernelspec": {
   "display_name": "Python 2",
   "language": "python",
   "name": "python2"
  },
  "language_info": {
   "codemirror_mode": {
    "name": "ipython",
    "version": 2
   },
   "file_extension": ".py",
   "mimetype": "text/x-python",
   "name": "python",
   "nbconvert_exporter": "python",
   "pygments_lexer": "ipython2",
   "version": "2.7.6"
  }
 },
 "nbformat": 4,
 "nbformat_minor": 0
}
