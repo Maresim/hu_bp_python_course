{
 "cells": [
  {
   "cell_type": "code",
   "execution_count": 1,
   "metadata": {
    "collapsed": true
   },
   "outputs": [],
   "source": [
    "import pandas as pd\n",
    "from matplotlib import pyplot as plt\n",
    "plt.style.use('ggplot')\n",
    "%matplotlib inline\n",
    "diamonds = pd.read_csv('diamonds.csv',index_col=0)"
   ]
  },
  {
   "cell_type": "code",
   "execution_count": 7,
   "metadata": {
    "collapsed": false
   },
   "outputs": [
    {
     "data": {
      "text/plain": [
       "<matplotlib.axes._subplots.AxesSubplot at 0x7f5d2e52b910>"
      ]
     },
     "execution_count": 7,
     "metadata": {},
     "output_type": "execute_result"
    },
    {
     "data": {
      "image/png": "[encoded data removed]",
      "text/plain": [
       "<matplotlib.figure.Figure at 0x7f5d503783d0>"
      ]
     },
     "metadata": {},
     "output_type": "display_data"
    }
   ],
   "source": [
    "diamonds.sort(columns=\"carat\",ascending=False)\n",
    "diamondsB = diamonds[diamonds['carat']>2]\n",
    "diamondsB\n",
    "diamondsB[\"price\"].plot(kind='hist')"
   ]
  },
  {
   "cell_type": "code",
   "execution_count": 19,
   "metadata": {
    "collapsed": false
   },
   "outputs": [
    {
     "data": {
      "text/plain": [
       "<matplotlib.axes._subplots.AxesSubplot at 0x7f5d58512910>"
      ]
     },
     "execution_count": 19,
     "metadata": {},
     "output_type": "execute_result"
    },
    {
     "data": {
      "image/png": "[encoded data removed]",
      "text/plain": [
       "<matplotlib.figure.Figure at 0x7f5d503f1c50>"
      ]
     },
     "metadata": {},
     "output_type": "display_data"
    }
   ],
   "source": [
    "stadev = diamonds.groupby('cut').std()\n",
    "stadev\n",
    "diamonds.groupby('cut')[\"x\"].std().plot()"
   ]
  },
  {
   "cell_type": "code",
   "execution_count": 41,
   "metadata": {
    "collapsed": false
   },
   "outputs": [
    {
     "data": {
      "text/html": [
       "<div style=\"max-height:1000px;max-width:1500px;overflow:auto;\">\n",
       "<table border=\"1\" class=\"dataframe\">\n",
       "  <thead>\n",
       "    <tr style=\"text-align: right;\">\n",
       "      <th></th>\n",
       "      <th>SATZART</th>\n",
       "      <th>AGS</th>\n",
       "      <th>NAME</th>\n",
       "      <th>EWZ</th>\n",
       "      <th>EW_M</th>\n",
       "      <th>EW_W</th>\n",
       "      <th>EW_D</th>\n",
       "      <th>EW_A</th>\n",
       "      <th>ALTER_1</th>\n",
       "      <th>ALTER_2</th>\n",
       "      <th>ALTER_3</th>\n",
       "      <th>ALTER_4</th>\n",
       "      <th>ALTER_5</th>\n",
       "    </tr>\n",
       "  </thead>\n",
       "  <tbody>\n",
       "    <tr>\n",
       "      <th>1    </th>\n",
       "      <td> 10</td>\n",
       "      <td>  1</td>\n",
       "      <td>     Schleswig-Holstein</td>\n",
       "      <td>  2800119</td>\n",
       "      <td> 1360530</td>\n",
       "      <td> 1439590</td>\n",
       "      <td>  2683670</td>\n",
       "      <td>  116450</td>\n",
       "      <td>  477010</td>\n",
       "      <td>  362390</td>\n",
       "      <td>  790060</td>\n",
       "      <td>  563490</td>\n",
       "      <td>  607170</td>\n",
       "    </tr>\n",
       "    <tr>\n",
       "      <th>1304 </th>\n",
       "      <td> 10</td>\n",
       "      <td>  2</td>\n",
       "      <td>                Hamburg</td>\n",
       "      <td>  1706696</td>\n",
       "      <td>  826140</td>\n",
       "      <td>  880560</td>\n",
       "      <td>  1495810</td>\n",
       "      <td>  210890</td>\n",
       "      <td>  267800</td>\n",
       "      <td>  275420</td>\n",
       "      <td>  537600</td>\n",
       "      <td>  301700</td>\n",
       "      <td>  324180</td>\n",
       "    </tr>\n",
       "    <tr>\n",
       "      <th>1309 </th>\n",
       "      <td> 10</td>\n",
       "      <td>  3</td>\n",
       "      <td>          Niedersachsen</td>\n",
       "      <td>  7777992</td>\n",
       "      <td> 3804410</td>\n",
       "      <td> 3973590</td>\n",
       "      <td>  7351250</td>\n",
       "      <td>  426750</td>\n",
       "      <td> 1356370</td>\n",
       "      <td> 1049040</td>\n",
       "      <td> 2188170</td>\n",
       "      <td> 1569480</td>\n",
       "      <td> 1614940</td>\n",
       "    </tr>\n",
       "    <tr>\n",
       "      <th>2807 </th>\n",
       "      <td> 10</td>\n",
       "      <td>  4</td>\n",
       "      <td>                 Bremen</td>\n",
       "      <td>   650863</td>\n",
       "      <td>  316110</td>\n",
       "      <td>  334750</td>\n",
       "      <td>   580340</td>\n",
       "      <td>   70520</td>\n",
       "      <td>   98850</td>\n",
       "      <td>  105260</td>\n",
       "      <td>  181880</td>\n",
       "      <td>  126940</td>\n",
       "      <td>  137940</td>\n",
       "    </tr>\n",
       "    <tr>\n",
       "      <th>2815 </th>\n",
       "      <td> 10</td>\n",
       "      <td>  5</td>\n",
       "      <td>    Nordrhein-Westfalen</td>\n",
       "      <td> 17538251</td>\n",
       "      <td> 8521230</td>\n",
       "      <td> 9017020</td>\n",
       "      <td> 15931170</td>\n",
       "      <td> 1607080</td>\n",
       "      <td> 2984650</td>\n",
       "      <td> 2481470</td>\n",
       "      <td> 4993250</td>\n",
       "      <td> 3525620</td>\n",
       "      <td> 3553260</td>\n",
       "    </tr>\n",
       "    <tr>\n",
       "      <th>3666 </th>\n",
       "      <td> 10</td>\n",
       "      <td>  6</td>\n",
       "      <td>                 Hessen</td>\n",
       "      <td>  5971816</td>\n",
       "      <td> 2914740</td>\n",
       "      <td> 3057080</td>\n",
       "      <td>  5311720</td>\n",
       "      <td>  660090</td>\n",
       "      <td> 1005660</td>\n",
       "      <td>  834310</td>\n",
       "      <td> 1746430</td>\n",
       "      <td> 1205160</td>\n",
       "      <td> 1180260</td>\n",
       "    </tr>\n",
       "    <tr>\n",
       "      <th>4548 </th>\n",
       "      <td> 10</td>\n",
       "      <td>  7</td>\n",
       "      <td>        Rheinland-Pfalz</td>\n",
       "      <td>  3989808</td>\n",
       "      <td> 1950420</td>\n",
       "      <td> 2039380</td>\n",
       "      <td>  3718250</td>\n",
       "      <td>  271560</td>\n",
       "      <td>  664260</td>\n",
       "      <td>  562230</td>\n",
       "      <td> 1109500</td>\n",
       "      <td>  841540</td>\n",
       "      <td>  812270</td>\n",
       "    </tr>\n",
       "    <tr>\n",
       "      <th>7103 </th>\n",
       "      <td> 10</td>\n",
       "      <td>  8</td>\n",
       "      <td>      Baden-Württemberg</td>\n",
       "      <td> 10486660</td>\n",
       "      <td> 5133480</td>\n",
       "      <td> 5353190</td>\n",
       "      <td>  9353030</td>\n",
       "      <td> 1133630</td>\n",
       "      <td> 1853540</td>\n",
       "      <td> 1547500</td>\n",
       "      <td> 2997710</td>\n",
       "      <td> 2053400</td>\n",
       "      <td> 2034520</td>\n",
       "    </tr>\n",
       "    <tr>\n",
       "      <th>8713 </th>\n",
       "      <td> 10</td>\n",
       "      <td>  9</td>\n",
       "      <td>                 Bayern</td>\n",
       "      <td> 12397614</td>\n",
       "      <td> 6062910</td>\n",
       "      <td> 6334700</td>\n",
       "      <td> 11383180</td>\n",
       "      <td> 1014430</td>\n",
       "      <td> 2112190</td>\n",
       "      <td> 1797760</td>\n",
       "      <td> 3613220</td>\n",
       "      <td> 2459360</td>\n",
       "      <td> 2415070</td>\n",
       "    </tr>\n",
       "    <tr>\n",
       "      <th>12255</th>\n",
       "      <td> 10</td>\n",
       "      <td> 10</td>\n",
       "      <td>               Saarland</td>\n",
       "      <td>   999623</td>\n",
       "      <td>  485380</td>\n",
       "      <td>  514240</td>\n",
       "      <td>   933360</td>\n",
       "      <td>   66270</td>\n",
       "      <td>  148980</td>\n",
       "      <td>  135930</td>\n",
       "      <td>  269470</td>\n",
       "      <td>  224680</td>\n",
       "      <td>  220560</td>\n",
       "    </tr>\n",
       "    <tr>\n",
       "      <th>12367</th>\n",
       "      <td> 10</td>\n",
       "      <td> 11</td>\n",
       "      <td>                 Berlin</td>\n",
       "      <td>  3292365</td>\n",
       "      <td> 1599840</td>\n",
       "      <td> 1692530</td>\n",
       "      <td>  2920090</td>\n",
       "      <td>  372280</td>\n",
       "      <td>  494150</td>\n",
       "      <td>  535310</td>\n",
       "      <td> 1004770</td>\n",
       "      <td>  624090</td>\n",
       "      <td>  634030</td>\n",
       "    </tr>\n",
       "    <tr>\n",
       "      <th>12372</th>\n",
       "      <td> 10</td>\n",
       "      <td> 12</td>\n",
       "      <td>            Brandenburg</td>\n",
       "      <td>  2455780</td>\n",
       "      <td> 1207850</td>\n",
       "      <td> 1247920</td>\n",
       "      <td>  2413580</td>\n",
       "      <td>   42190</td>\n",
       "      <td>  337040</td>\n",
       "      <td>  309010</td>\n",
       "      <td>  691800</td>\n",
       "      <td>  562490</td>\n",
       "      <td>  555430</td>\n",
       "    </tr>\n",
       "    <tr>\n",
       "      <th>13012</th>\n",
       "      <td> 10</td>\n",
       "      <td> 13</td>\n",
       "      <td> Mecklenburg-Vorpommern</td>\n",
       "      <td>  1609982</td>\n",
       "      <td>  793310</td>\n",
       "      <td>  816670</td>\n",
       "      <td>  1582250</td>\n",
       "      <td>   27730</td>\n",
       "      <td>  215300</td>\n",
       "      <td>  228240</td>\n",
       "      <td>  434590</td>\n",
       "      <td>  375550</td>\n",
       "      <td>  356300</td>\n",
       "    </tr>\n",
       "    <tr>\n",
       "      <th>13959</th>\n",
       "      <td> 10</td>\n",
       "      <td> 14</td>\n",
       "      <td>                Sachsen</td>\n",
       "      <td>  4056799</td>\n",
       "      <td> 1978040</td>\n",
       "      <td> 2078760</td>\n",
       "      <td>  3979760</td>\n",
       "      <td>   77030</td>\n",
       "      <td>  543160</td>\n",
       "      <td>  558590</td>\n",
       "      <td> 1077560</td>\n",
       "      <td>  870980</td>\n",
       "      <td> 1006500</td>\n",
       "    </tr>\n",
       "    <tr>\n",
       "      <th>14772</th>\n",
       "      <td> 10</td>\n",
       "      <td> 15</td>\n",
       "      <td>         Sachsen-Anhalt</td>\n",
       "      <td>  2287040</td>\n",
       "      <td> 1116850</td>\n",
       "      <td> 1170190</td>\n",
       "      <td>  2247810</td>\n",
       "      <td>   39230</td>\n",
       "      <td>  290700</td>\n",
       "      <td>  304600</td>\n",
       "      <td>  610810</td>\n",
       "      <td>  524660</td>\n",
       "      <td>  556270</td>\n",
       "    </tr>\n",
       "    <tr>\n",
       "      <th>15129</th>\n",
       "      <td> 10</td>\n",
       "      <td> 16</td>\n",
       "      <td>              Thüringen</td>\n",
       "      <td>  2188589</td>\n",
       "      <td> 1076410</td>\n",
       "      <td> 1112180</td>\n",
       "      <td>  2155360</td>\n",
       "      <td>   33230</td>\n",
       "      <td>  286960</td>\n",
       "      <td>  303570</td>\n",
       "      <td>  587720</td>\n",
       "      <td>  501650</td>\n",
       "      <td>  508700</td>\n",
       "    </tr>\n",
       "  </tbody>\n",
       "</table>\n",
       "</div>"
      ],
      "text/plain": [
       "       SATZART  AGS                    NAME       EWZ     EW_M     EW_W  \\\n",
       "1           10    1      Schleswig-Holstein   2800119  1360530  1439590   \n",
       "1304        10    2                 Hamburg   1706696   826140   880560   \n",
       "1309        10    3           Niedersachsen   7777992  3804410  3973590   \n",
       "2807        10    4                  Bremen    650863   316110   334750   \n",
       "2815        10    5     Nordrhein-Westfalen  17538251  8521230  9017020   \n",
       "3666        10    6                  Hessen   5971816  2914740  3057080   \n",
       "4548        10    7         Rheinland-Pfalz   3989808  1950420  2039380   \n",
       "7103        10    8       Baden-Württemberg  10486660  5133480  5353190   \n",
       "8713        10    9                  Bayern  12397614  6062910  6334700   \n",
       "12255       10   10                Saarland    999623   485380   514240   \n",
       "12367       10   11                  Berlin   3292365  1599840  1692530   \n",
       "12372       10   12             Brandenburg   2455780  1207850  1247920   \n",
       "13012       10   13  Mecklenburg-Vorpommern   1609982   793310   816670   \n",
       "13959       10   14                 Sachsen   4056799  1978040  2078760   \n",
       "14772       10   15          Sachsen-Anhalt   2287040  1116850  1170190   \n",
       "15129       10   16               Thüringen   2188589  1076410  1112180   \n",
       "\n",
       "           EW_D     EW_A  ALTER_1  ALTER_2  ALTER_3  ALTER_4  ALTER_5  \n",
       "1       2683670   116450   477010   362390   790060   563490   607170  \n",
       "1304    1495810   210890   267800   275420   537600   301700   324180  \n",
       "1309    7351250   426750  1356370  1049040  2188170  1569480  1614940  \n",
       "2807     580340    70520    98850   105260   181880   126940   137940  \n",
       "2815   15931170  1607080  2984650  2481470  4993250  3525620  3553260  \n",
       "3666    5311720   660090  1005660   834310  1746430  1205160  1180260  \n",
       "4548    3718250   271560   664260   562230  1109500   841540   812270  \n",
       "7103    9353030  1133630  1853540  1547500  2997710  2053400  2034520  \n",
       "8713   11383180  1014430  2112190  1797760  3613220  2459360  2415070  \n",
       "12255    933360    66270   148980   135930   269470   224680   220560  \n",
       "12367   2920090   372280   494150   535310  1004770   624090   634030  \n",
       "12372   2413580    42190   337040   309010   691800   562490   555430  \n",
       "13012   1582250    27730   215300   228240   434590   375550   356300  \n",
       "13959   3979760    77030   543160   558590  1077560   870980  1006500  \n",
       "14772   2247810    39230   290700   304600   610810   524660   556270  \n",
       "15129   2155360    33230   286960   303570   587720   501650   508700  "
      ]
     },
     "execution_count": 41,
     "metadata": {},
     "output_type": "execute_result"
    }
   ],
   "source": [
    "merkmale=pd.read_excel('demo_excel.xls',2,header=3)\n",
    "Bl=merkmale[merkmale['SATZART'] == 10]\n",
    "Bl"
   ]
  },
  {
   "cell_type": "code",
   "execution_count": 42,
   "metadata": {
    "collapsed": false
   },
   "outputs": [
    {
     "data": {
      "text/plain": [
       "<matplotlib.axes._subplots.AxesSubplot at 0x7f5d2d559350>"
      ]
     },
     "execution_count": 42,
     "metadata": {},
     "output_type": "execute_result"
    },
    {
     "data": {
      "image/png": "[encoded data removed]",
      "text/plain": [
       "<matplotlib.figure.Figure at 0x7f5d2d93fa90>"
      ]
     },
     "metadata": {},
     "output_type": "display_data"
    }
   ],
   "source": [
    "Bl.plot(x=\"NAME\", y=[(\"ALTER_1\"),(\"ALTER_2\"),(\"ALTER_3\"),(\"ALTER_4\"),(\"ALTER_5\")],kind=\"barh\")"
   ]
  },
  {
   "cell_type": "code",
   "execution_count": 144,
   "metadata": {
    "collapsed": false
   },
   "outputs": [
    {
     "name": "stdout",
     "output_type": "stream",
     "text": [
      "        ALTER_1   ALTER_2   ALTER_3   ALTER_4   ALTER_5\n",
      "1      0.170353  0.129419  0.282152  0.201238  0.216837\n",
      "1304   0.156911  0.161376  0.314995  0.176774  0.189946\n",
      "1309   0.174386  0.134873  0.281328  0.201785  0.207629\n",
      "2807   0.151875  0.161724  0.279444  0.195033  0.211934\n",
      "2815   0.170179  0.141489  0.284706  0.201025  0.202601\n",
      "3666   0.168401  0.139708  0.292445  0.201808  0.197638\n",
      "4548   0.166489  0.140917  0.278084  0.210922  0.203586\n",
      "7103   0.176752  0.147568  0.285859  0.195811  0.194010\n",
      "8713   0.170371  0.145009  0.291445  0.198374  0.194801\n",
      "12255  0.149036  0.135981  0.269572  0.224765  0.220643\n",
      "12367  0.150090  0.162591  0.305182  0.189557  0.192576\n",
      "12372  0.137244  0.125830  0.281703  0.229047  0.226173\n",
      "13012  0.133728  0.141766  0.269935  0.233263  0.221307\n",
      "13959  0.133889  0.137692  0.265618  0.214696  0.248102\n",
      "14772  0.127108  0.133185  0.267074  0.229406  0.243227\n",
      "15129  0.131116  0.138706  0.268538  0.229212  0.232433\n",
      "                        ALTER_1  ALTER_2\n",
      "NAME                                    \n",
      "Baden-Württemberg       1853540  1547500\n",
      "Bayern                  2112190  1797760\n",
      "Berlin                   494150   535310\n",
      "Brandenburg              337040   309010\n",
      "Bremen                    98850   105260\n",
      "Hamburg                  267800   275420\n",
      "Hessen                  1005660   834310\n",
      "Mecklenburg-Vorpommern   215300   228240\n",
      "Niedersachsen           1356370  1049040\n",
      "Nordrhein-Westfalen     2984650  2481470\n",
      "Rheinland-Pfalz          664260   562230\n",
      "Saarland                 148980   135930\n",
      "Sachsen                  543160   558590\n",
      "Sachsen-Anhalt           290700   304600\n",
      "Schleswig-Holstein       477010   362390\n",
      "Thüringen                286960   303570\n"
     ]
    },
    {
     "data": {
      "text/plain": [
       "<matplotlib.axes._subplots.AxesSubplot at 0x7f5d2374bed0>"
      ]
     },
     "execution_count": 144,
     "metadata": {},
     "output_type": "execute_result"
    },
    {
     "data": {
      "image/png": "[encoded data removed]",
      "text/plain": [
       "<matplotlib.figure.Figure at 0x7f5d23f1ddd0>"
      ]
     },
     "metadata": {},
     "output_type": "display_data"
    }
   ],
   "source": [
    "a1=(Bl[\"ALTER_1\"].div(Bl[\"EWZ\"]))\n",
    "a2=(Bl[\"ALTER_2\"].div(Bl[\"EWZ\"]))\n",
    "a3=(Bl[\"ALTER_3\"].div(Bl[\"EWZ\"]))\n",
    "a4=(Bl[\"ALTER_4\"].div(Bl[\"EWZ\"]))\n",
    "a5=(Bl[\"ALTER_5\"].div(Bl[\"EWZ\"]))\n",
    "#print a1\n",
    "am = Bl[[\"ALTER_1\",\"ALTER_2\",\"ALTER_3\",\"ALTER_4\",\"ALTER_5\"]].div(Bl['EWZ'],axis=0)\n",
    "print am\n",
    "print b\n",
    "#print am\n",
    "am.plot(x=Bl[\"NAME\"],kind=\"barh\")"
   ]
  },
  {
   "cell_type": "code",
   "execution_count": 149,
   "metadata": {
    "collapsed": false
   },
   "outputs": [
    {
     "name": "stdout",
     "output_type": "stream",
     "text": [
      "Int64Index([12367], dtype='int64')\n",
      "<pandas.core.indexing._iLocIndexer object at 0x7f5d23158350>\n"
     ]
    },
    {
     "data": {
      "text/plain": [
       "array([<matplotlib.axes._subplots.AxesSubplot object at 0x7f5d233e7c50>], dtype=object)"
      ]
     },
     "execution_count": 149,
     "metadata": {},
     "output_type": "execute_result"
    },
    {
     "data": {
      "image/png": "[encoded data removed]",
      "text/plain": [
       "<matplotlib.figure.Figure at 0x7f5d23158310>"
      ]
     },
     "metadata": {},
     "output_type": "display_data"
    }
   ],
   "source": [
    "Bl[\"NAME\"]=='Berlin'\n",
    "c = Bl[Bl[\"NAME\"]=='Berlin']\n",
    "print c.index\n",
    "#print c[[(\"ALTER_1\"),(\"ALTER_2\"),(\"ALTER_3\"),(\"ALTER_4\"),(\"ALTER_5\")]]\n",
    "am.iloc(c.index)\n",
    "am_berlin = am.iloc(c.index)\n",
    "d=c[[\"ALTER_1\",\"ALTER_2\",\"ALTER_3\",\"ALTER_4\",\"ALTER_5\"]].transpose()\n",
    "\n",
    "d.plot(kind=\"pie\",subplots=True)\n",
    "\n",
    "#c\n",
    "#.plot()\n",
    "#.plot()\n",
    "#am.plot()\n"
   ]
  },
  {
   "cell_type": "code",
   "execution_count": null,
   "metadata": {
    "collapsed": true
   },
   "outputs": [],
   "source": []
  }
 ],
 "metadata": {
  "kernelspec": {
   "display_name": "Python 2",
   "language": "python",
   "name": "python2"
  },
  "language_info": {
   "codemirror_mode": {
    "name": "ipython",
    "version": 2
   },
   "file_extension": ".py",
   "mimetype": "text/x-python",
   "name": "python",
   "nbconvert_exporter": "python",
   "pygments_lexer": "ipython2",
   "version": "2.7.6"
  }
 },
 "nbformat": 4,
 "nbformat_minor": 0
}
