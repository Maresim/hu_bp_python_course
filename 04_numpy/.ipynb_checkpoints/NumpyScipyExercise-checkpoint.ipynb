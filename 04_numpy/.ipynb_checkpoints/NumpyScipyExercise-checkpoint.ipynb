{
 "cells": [
  {
   "cell_type": "markdown",
   "metadata": {},
   "source": [
    "# Exercise Numpy/Scipy"
   ]
  },
  {
   "cell_type": "markdown",
   "metadata": {},
   "source": [
    "### 1. Basics\n",
    "1. generate a 1-vector of size 10\n",
    "2. generate a zero-matrix of size 4x3\n",
    "3. generate a 3x3 identity matrix\n",
    "4. contruct a vector of length 100 with alternating ones and zeros ( hint: use slice indexing )\n",
    "5. construct a 8x8 matrix with a checkboard pattern of zeros and ones\n",
    "6. create a random vector of size 100 and sort it\n",
    "7. compute the inverse, eigenvectors and eigenvalues of the following matrix:\n",
    "$$\\mathbf{A} = \\left[\\begin{array}\n",
    "{rrr}\n",
    "1 & 2 & 3 \\\\\n",
    "4 & 5 & 6 \\\\\n",
    "7 & 8 & 9\n",
    "\\end{array}\\right]\n",
    "$$\n"
   ]
  },
  {
   "cell_type": "code",
   "execution_count": 42,
   "metadata": {
    "collapsed": false
   },
   "outputs": [],
   "source": [
    "import numpy as np\n",
    "import scipy as sp\n"
   ]
  },
  {
   "cell_type": "code",
   "execution_count": 61,
   "metadata": {
    "collapsed": false,
    "scrolled": true
   },
   "outputs": [
    {
     "name": "stdout",
     "output_type": "stream",
     "text": [
      "[[1, 2, 3], [4, 5, 6], [7, 8, 9]]\n"
     ]
    },
    {
     "data": {
      "text/plain": [
       "array([[ -4.50359963e+15,   9.00719925e+15,  -4.50359963e+15],\n",
       "       [  9.00719925e+15,  -1.80143985e+16,   9.00719925e+15],\n",
       "       [ -4.50359963e+15,   9.00719925e+15,  -4.50359963e+15]])"
      ]
     },
     "execution_count": 61,
     "metadata": {},
     "output_type": "execute_result"
    }
   ],
   "source": [
    "a=np.zeros((8,8))\n",
    "a[::2,::2]=1\n",
    "a[1::2,1::2]=1\n",
    "\n",
    "a=np.zeros((10,1))\n",
    "b = np.random.randint(100, size = 10)\n",
    "#print b\n",
    "#print np.sort(b)\n",
    "\n",
    "A=[[1,2,3],[4,5,6],[7,8,9]]\n",
    "print A\n",
    "np.linalg.inv(A)"
   ]
  },
  {
   "cell_type": "markdown",
   "metadata": {},
   "source": [
    "### 2. Solving ordinary differential equations (ODEs) using scipy\n",
    "\n",
    "Consider the following hypothetical reaction system which was first proposed by Alfred J. Lotka (Lotka-Voltera System):\n",
    "$$ \\begin{align} \n",
    "r1:& \\;\\; X \\rightarrow 2 X \\\\ \n",
    "r2:& \\;\\; X + Y \\rightarrow 2 Y \\\\\n",
    "r3:& \\;\\; Y \\rightarrow \\varnothing \n",
    "\\end{align} $$\n",
    "\n",
    "1. set up the stoichiometric matrix of the system (this can be done without Python)\n",
    "2. the rate of change of the species participating in a reaction system can be written as\n",
    "$$ \\frac {dS} {dt} = N \\cdot v(S,p) $$\n",
    "with the vector of species concentrations $S$, the stoichiometric matrix N and the vector of reaction velocities $v(S,p)$ ($p$ denotes a vector of parmameters)\n",
    "define a function `dSdt( S, t )` which computes the rate of change for each species, given the vector of current species concentrations $S$ and the current time $t$. Assume that all reactions follow irreversible mass-action kinetics with parameters $k_1 = 1.5$, $k_2 = 0.8 $ and $k_3 = 0.9$, each equal to \n",
    "3. Use the scipy ODE integrator scipy.integrate.odeint to solve the reaction system numerically on the time interval $t \\in [0, 30]$ using the following initial conditions: $X(0)= Y(0) = 1$"
   ]
  },
  {
   "cell_type": "code",
   "execution_count": 135,
   "metadata": {
    "collapsed": false
   },
   "outputs": [
    {
     "data": {
      "text/plain": [
       "[<matplotlib.lines.Line2D at 0x7f74506501d0>,\n",
       " <matplotlib.lines.Line2D at 0x7f7450650310>]"
      ]
     },
     "execution_count": 135,
     "metadata": {},
     "output_type": "execute_result"
    },
    {
     "data": {
      "image/png": "[encoded data removed]",
      "text/plain": [
       "<matplotlib.figure.Figure at 0x7f7451766590>"
      ]
     },
     "metadata": {},
     "output_type": "display_data"
    }
   ],
   "source": [
    "import scipy.integrate\n",
    "from matplotlib import pyplot as plt\n",
    "plt.style.use('ggplot')\n",
    "%matplotlib inline\n",
    "\n",
    "N=[[1,-1,0],[0,1,-1]]\n",
    "\n",
    "p=[1.5,12.16,0.761]\n",
    "\n",
    "S=[1,1]\n",
    "\n",
    "v=[p[0]*S[0], p[1]*S[0]*S[1], p[2]*S[1]]\n",
    "\n",
    "time= np.arange(0,100,0.1)\n",
    "\n",
    "def dSdt(S,t):\n",
    "    return np.dot(N,[p[0]*S[0], p[1]*S[0]*S[1], p[2]*S[1]])\n",
    "\n",
    "result = scipy.integrate.odeint(dSdt, S, time )\n",
    "\n",
    "#print result \n",
    "plt.plot(time,result)"
   ]
  },
  {
   "cell_type": "markdown",
   "metadata": {},
   "source": [
    "### 3. Parameter fitting\n",
    "\n",
    "You have been provided with an experimenal time-course measurement of the X and Y species (pickled object `experimental_data.p`). The data has the form of a numpy array with the first column representing the experimental time (in seconds), column 2 the measurement of X (in mM) and column 3 Y.\n",
    "\n",
    "* modify the `dSdt` function from above, such that a parameter vector `p`$= [k1, k2, k3]$ can be passed in addition to `S` and `t`\n",
    "\n",
    "* define an objective function `obj_fct( p, S_exp, t_exp )` which computes the squared distance between the experimental data and a model simulation for the parameters `p`$= [k1, k2, k3]$ for the time point vector `t_exp` (assume that the initial conditions are known and as defined above), (hint: additional arguments can be passed to the function integrated by `scipy.optimize.odeint` using the `args = (p,)` argument. Dont forget the comma in the tuple!\n",
    "\n",
    "* try to identify the parameters of the reaction system using this objective function and the `sicipy.optimize.fmin` minimization algorithm. Fit only parameters k2 and k3 and keep k1 at 1.5. Use the parameters given above as starting values.\n",
    "\n",
    "* plot a simulation of t"
   ]
  },
  {
   "cell_type": "code",
   "execution_count": 134,
   "metadata": {
    "collapsed": false
   },
   "outputs": [
    {
     "name": "stdout",
     "output_type": "stream",
     "text": [
      "[[  0.00000000e+00   1.00000000e+00   1.00000000e+00]\n",
      " [  1.00000000e-01   1.02933734e+00   1.10826960e+00]\n",
      " [  2.00000000e-01   1.04552921e+00   1.23151272e+00]\n",
      " ..., \n",
      " [  9.97000000e+01   5.20776806e-02   4.03137067e-01]\n",
      " [  9.98000000e+01   5.77749941e-02   4.00049106e-01]\n",
      " [  9.99000000e+01   6.41172761e-02   3.97259456e-01]]\n",
      "Optimization terminated successfully.\n",
      "         Current function value: 90.624027\n",
      "         Iterations: 42\n",
      "         Function evaluations: 91\n",
      "[ 12.15778707   0.76140705]\n"
     ]
    }
   ],
   "source": [
    "import pickle\n",
    "import scipy.optimize\n",
    "import scipy.integrate\n",
    "from matplotlib import pyplot as plt\n",
    "plt.style.use('ggplot')\n",
    "%matplotlib inline\n",
    "S_ex=pickle.load(open ('experimental_data.p', 'rb'))\n",
    "print S_ex\n",
    "N=[[1,-1,0],[0,1,-1]]\n",
    "\n",
    "p=[12.15,0.761]\n",
    "\n",
    "S=[1,1]\n",
    "\n",
    "v=[1.5*S[0], p[0]*S[0]*S[1], p[1]*S[1]]\n",
    "\n",
    "time= np.arange(0,10,0.1)\n",
    "\n",
    "def dSdt(S,t,p):\n",
    "    return np.dot(N,[1.5*S[0], p[0]*S[0]*S[1], p[1]*S[1]])\n",
    "\n",
    "#result = scipy.integrate.odeint(dSdt, S, time, args=(p,))\n",
    "\n",
    "def obj_fct( p, S_exp, t_exp):\n",
    "    result1=scipy.integrate.odeint(dSdt, S, t_exp, args=(p,))\n",
    "    return np.sum((S_exp-result1)**2)\n",
    "\n",
    "#obj_fct(p,S_ex[:,1:2],S_ex[:,0])\n",
    "result= scipy.optimize.fmin(obj_fct,p, args=(S_ex[:,1:2],S_ex[:,0]))\n",
    "\n",
    "print result \n"
   ]
  },
  {
   "cell_type": "code",
   "execution_count": null,
   "metadata": {
    "collapsed": true
   },
   "outputs": [],
   "source": []
  }
 ],
 "metadata": {
  "kernelspec": {
   "display_name": "Python 2",
   "language": "python",
   "name": "python2"
  },
  "language_info": {
   "codemirror_mode": {
    "name": "ipython",
    "version": 2
   },
   "file_extension": ".py",
   "mimetype": "text/x-python",
   "name": "python",
   "nbconvert_exporter": "python",
   "pygments_lexer": "ipython2",
   "version": "2.7.6"
  }
 },
 "nbformat": 4,
 "nbformat_minor": 0
}
